{
 "cells": [
  {
   "cell_type": "code",
   "execution_count": null,
   "id": "bb492070",
   "metadata": {},
   "outputs": [],
   "source": [
    "import findspark\n",
    "findspark.init('/Users/kevinblum/Apache-Spark/spark-3.1.2-bin-hadoop3.2')\n",
    "import tweepy\n",
    "import string\n",
    "import os\n",
    "import re\n",
    "import pyspark\n",
    "from pyspark.sql import SparkSession\n",
    "from pyspark import SparkContext\n",
    "from pyspark.streaming import StreamingContext\n",
    "import pyspark.sql.functions as F\n",
    "from pyspark.sql.functions import udf\n",
    "from pyspark.ml.feature import CountVectorizer\n",
    "#consumer_key = \"\"\n",
    "#consumer_secret = \"\"\n",
    "#access_token = \"\"\n",
    "#access_token_secret = \"\"\n",
    "# Creating the authentication object\n",
    "#auth = tweepy.OAuthHandler(consumer_key, consumer_secret)\n",
    "# Setting your access token and secret\n",
    "#auth.set_access_token(access_token, access_token_secret)\n",
    "#api = tweepy.API(auth)\n"
   ]
  },
  {
   "cell_type": "code",
   "execution_count": null,
   "id": "84cb0692",
   "metadata": {},
   "outputs": [],
   "source": [
    "#open 2 command prompts\n",
    "#terminal 1\n",
    "#cd %SPARK_HOME%\n",
    "#bin\\spark-class2.cmd org.apache.spark.deploy.master.Master\n",
    "#open in browser localhost:8080\n",
    "#terminal 2\n",
    "#cd %SPARK_HOME%\n",
    "#bin\\spark-class2.cmd org.apache.spark.deploy.worker.Worker -c 4 -m 32G spark://192.168.1.227:7077\n",
    "#open in browser localhost:8081\n",
    "\n",
    "spark = SparkSession.builder.master('spark://Kevins-MBP.home:7077').appName('classifier').config('spark.executor.memory', '32g').getOrCreate()\n",
    "df = spark.read.options(delimiter=\",\",header=False).csv(\"trainingandtestdata/training.1600000.processed.noemoticon.csv\")\n",
    "df=df.toDF('polarity','tweet_id','tweet_date','query_string','tweet_screen_name','Tweet')\n",
    "df2=spark.read.options(delimiter=\",\",header=False).csv(\"trainingandtestdata/testdata.manual.2009.06.14.csv\")\n",
    "df2=df2.toDF('polarity','tweet_id','tweet_date','query_string','tweet_screen_name','Tweet')"
   ]
  },
  {
   "cell_type": "code",
   "execution_count": null,
   "id": "175350c6",
   "metadata": {},
   "outputs": [],
   "source": [
    "from pyspark.sql.types import StringType\n",
    "def preprocessing(text):\n",
    "    # process the tweets\n",
    "\n",
    "    #Convert to lower case\n",
    "    tweet = text.lower()\n",
    "    #Convert www.* or https?://* to URL\n",
    "    tweet = re.sub('((www\\.[^\\s]+)|(https?://[^\\s]+))',' ',tweet)\n",
    "    #Convert @username to AT_USER\n",
    "    tweet = re.sub('@[^\\s]+',' ',tweet)\n",
    "    #Remove additional white spaces\n",
    "    tweet = re.sub('[\\s]+', ' ', tweet)\n",
    "    #Replace #word with word\n",
    "    tweet = re.sub(r'#([^\\s]+)', r'\\1', tweet)\n",
    "    #trim\n",
    "    tweet = tweet.strip('\\'\"')\n",
    "    return tweet\n",
    "tem=df.union(df2)\n",
    "brand_udf=udf(preprocessing,StringType())\n",
    "tem=tem.withColumn('text',brand_udf(tem['Tweet']))"
   ]
  },
  {
   "cell_type": "code",
   "execution_count": null,
   "id": "ac14afbc",
   "metadata": {},
   "outputs": [],
   "source": [
    "from pyspark.sql.types import IntegerType\n",
    "tem1=tem.select('tweet_id','Tweet','text','polarity')\n",
    "tem1 = tem1.withColumn('polarity', tem1['polarity'].cast(IntegerType()))\n",
    "(trainingData, testData) = tem1.randomSplit([0.8, 0.2])"
   ]
  },
  {
   "cell_type": "code",
   "execution_count": null,
   "id": "50126d76",
   "metadata": {},
   "outputs": [],
   "source": [
    "from pyspark.ml.feature import HashingTF, IDF, Tokenizer\n",
    "from pyspark.ml import Pipeline\n",
    "from pyspark.ml.classification import LogisticRegression\n",
    "from pyspark.ml.classification import DecisionTreeClassifier\n",
    "from pyspark.ml.evaluation import MulticlassClassificationEvaluator\n",
    "from pyspark.ml.feature import IndexToString, StringIndexer, VectorIndexer\n",
    "\n",
    "# Configure an ML pipeline, which consists of tree stages: tokenizer, hashingTF, and nb.\n",
    "tokenizer = Tokenizer(inputCol=\"text\", outputCol=\"words\")\n",
    "hashingTF = HashingTF(inputCol=tokenizer.getOutputCol(), outputCol=\"rawFeatures\")\n",
    "idf = IDF(minDocFreq=2, inputCol=\"rawFeatures\", outputCol=\"features\")\n",
    "\n",
    "lr = LogisticRegression(labelCol='polarity')\n",
    "\n",
    "# Pipeline Architecture\n",
    "pipeline = Pipeline(stages=[tokenizer, hashingTF, idf, lr])\n",
    "\n",
    "# Train model.  This also runs the indexers.\n",
    "model = pipeline.fit(trainingData)"
   ]
  },
  {
   "cell_type": "code",
   "execution_count": null,
   "id": "fd84db31",
   "metadata": {},
   "outputs": [],
   "source": [
    "model.save(\"/Users/kevinblum/BigDataProj/SparkTwitterStream/models/lr\")"
   ]
  },
  {
   "cell_type": "code",
   "execution_count": null,
   "id": "fc10fd04",
   "metadata": {},
   "outputs": [],
   "source": [
    "import pandas\n",
    "predictions = model.transform(testData)\n",
    "predictions1=predictions.toPandas()\n",
    "# Select example rows to display.\n",
    "#predictions.select(\"text\", \"polarity\", \"prediction\").show(5,False)"
   ]
  },
  {
   "cell_type": "code",
   "execution_count": null,
   "id": "f1de0369",
   "metadata": {},
   "outputs": [],
   "source": [
    "from pyspark.ml.evaluation import MulticlassClassificationEvaluator\n",
    "\n",
    "# Select (prediction, true label) and compute test error\n",
    "evaluator = MulticlassClassificationEvaluator(\n",
    "    labelCol=\"polarity\", predictionCol=\"prediction\", metricName=\"accuracy\")\n",
    "accuracy = evaluator.evaluate(predictions)\n",
    "print(accuracy)"
   ]
  },
  {
   "cell_type": "code",
   "execution_count": null,
   "id": "a9e90239",
   "metadata": {
    "scrolled": false
   },
   "outputs": [],
   "source": [
    "predictions.show(20)\n"
   ]
  },
  {
   "cell_type": "code",
   "execution_count": null,
   "id": "039d0521",
   "metadata": {},
   "outputs": [],
   "source": [
    "\n",
    "import json\n",
    "from pymongo import MongoClient\n",
    "cluster = MongoClient(\,
    "mydb = cluster[\"TwitterStream\"]\n",
    "mycol = mydb[\"Tweet\"]\n",
    "records = json.loads(predictions1.T.to_json()).values()\n",
    "mydb.mycol.insert_many(records)"
   ]
  }
 ],
 "metadata": {
  "kernelspec": {
   "display_name": "Python 3",
   "language": "python",
   "name": "python3"
  },
  "language_info": {
   "codemirror_mode": {
    "name": "ipython",
    "version": 3
   },
   "file_extension": ".py",
   "mimetype": "text/x-python",
   "name": "python",
   "nbconvert_exporter": "python",
   "pygments_lexer": "ipython3",
   "version": "3.8.8"
  }
 },
 "nbformat": 4,
 "nbformat_minor": 5
}
