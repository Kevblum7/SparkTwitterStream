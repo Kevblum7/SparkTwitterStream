{
 "cells": [
  {
   "cell_type": "code",
   "execution_count": 1,
   "id": "bb492070",
   "metadata": {},
   "outputs": [],
   "source": [
    "import tweepy\n",
    "import pandas as pd\n",
    "import nltk\n",
    "import string\n",
    "import os\n",
    "import re\n",
    "from pyspark.sql import SparkSession\n",
    "import pyspark.sql.functions as F\n",
    "from pyspark.sql.functions import udf\n",
    "consumer_key = \"Ax79DI6gXdMjOCQyQ61v2Khbj\"\n",
    "consumer_secret = \"DBSmfUL50FlhpVnePa373lOpBFffJjrGInXbSGG4T7Ze2RRQTl\"\n",
    "access_token = \"1418173405988376579-9g3SF5klnWOgd62nUfTfaqrQdzkJRA\"\n",
    "access_token_secret = \"q3jO28xbGDlvE6djCNeoSMQbtkosZYT7mBTv0O6wznMpw\"\n",
    "# Creating the authentication object\n",
    "auth = tweepy.OAuthHandler(consumer_key, consumer_secret)\n",
    "# Setting your access token and secret\n",
    "auth.set_access_token(access_token, access_token_secret)\n",
    "api = tweepy.API(auth)\n"
   ]
  },
  {
   "cell_type": "code",
   "execution_count": 2,
   "id": "84cb0692",
   "metadata": {},
   "outputs": [
    {
     "name": "stdout",
     "output_type": "stream",
     "text": [
      "+--------+----------+--------------------+------------+-----------------+--------------------+\n",
      "|polarity|  tweet_id|          tweet_date|query_string|tweet_screen_name|               Tweet|\n",
      "+--------+----------+--------------------+------------+-----------------+--------------------+\n",
      "|       0|1467810369|Mon Apr 06 22:19:...|    NO_QUERY|  _TheSpecialOne_|@switchfoot http:...|\n",
      "|       0|1467810672|Mon Apr 06 22:19:...|    NO_QUERY|    scotthamilton|is upset that he ...|\n",
      "|       0|1467810917|Mon Apr 06 22:19:...|    NO_QUERY|         mattycus|@Kenichan I dived...|\n",
      "|       0|1467811184|Mon Apr 06 22:19:...|    NO_QUERY|          ElleCTF|my whole body fee...|\n",
      "|       0|1467811193|Mon Apr 06 22:19:...|    NO_QUERY|           Karoli|@nationwideclass ...|\n",
      "+--------+----------+--------------------+------------+-----------------+--------------------+\n",
      "only showing top 5 rows\n",
      "\n",
      "+--------+--------+--------------------+------------+-----------------+--------------------+\n",
      "|polarity|tweet_id|          tweet_date|query_string|tweet_screen_name|               Tweet|\n",
      "+--------+--------+--------------------+------------+-----------------+--------------------+\n",
      "|       4|       3|Mon May 11 03:17:...|     kindle2|           tpryan|@stellargirl I lo...|\n",
      "|       4|       4|Mon May 11 03:18:...|     kindle2|           vcu451|Reading my kindle...|\n",
      "|       4|       5|Mon May 11 03:18:...|     kindle2|           chadfu|Ok, first assesme...|\n",
      "|       4|       6|Mon May 11 03:19:...|     kindle2|            SIX15|@kenburbary You'l...|\n",
      "|       4|       7|Mon May 11 03:21:...|     kindle2|         yamarama|@mikefish  Fair e...|\n",
      "+--------+--------+--------------------+------------+-----------------+--------------------+\n",
      "only showing top 5 rows\n",
      "\n"
     ]
    }
   ],
   "source": [
    "spark = SparkSession.builder.appName('classifier').getOrCreate()\n",
    "df = spark.read.csv(\"trainingandtestdata/training.1600000.processed.noemoticon.csv\")\n",
    "df = df.withColumnRenamed(\"_c0\", 'polarity')\n",
    "df = df.withColumnRenamed(\"_c1\", 'tweet_id')\n",
    "df = df.withColumnRenamed(\"_c2\", 'tweet_date')\n",
    "df = df.withColumnRenamed(\"_c3\", 'query_string')\n",
    "df = df.withColumnRenamed(\"_c4\", 'tweet_screen_name')\n",
    "df = df.withColumnRenamed(\"_c5\", 'Tweet')\n",
    "df2=spark.read.csv(\"trainingandtestdata/testdata.manual.2009.06.14.csv\")\n",
    "df2 = df2.withColumnRenamed(\"_c0\", 'polarity')\n",
    "df2 = df2.withColumnRenamed(\"_c1\", 'tweet_id')\n",
    "df2 = df2.withColumnRenamed(\"_c2\", 'tweet_date')\n",
    "df2 = df2.withColumnRenamed(\"_c3\", 'query_string')\n",
    "df2 = df2.withColumnRenamed(\"_c4\", 'tweet_screen_name')\n",
    "df2 = df2.withColumnRenamed(\"_c5\", 'Tweet')\n",
    "df.show(5)\n",
    "df2.show(5)"
   ]
  },
  {
   "cell_type": "code",
   "execution_count": 3,
   "id": "03752022",
   "metadata": {},
   "outputs": [
    {
     "name": "stdout",
     "output_type": "stream",
     "text": [
      "+--------+------+\n",
      "|polarity|count |\n",
      "+--------+------+\n",
      "|0       |800000|\n",
      "|4       |800000|\n",
      "+--------+------+\n",
      "\n"
     ]
    }
   ],
   "source": [
    "df=df[['tweet_id','Tweet','polarity']]\n",
    "df=df.withColumn('pre_clean_len',F.length('Tweet'))\n",
    "df2=df2[['tweet_id','Tweet','polarity']]\n",
    "df2=df2.withColumn('pre_clean_len',F.length('Tweet'))\n",
    "df.groupBy('polarity').count().orderBy('count',ascending=False).show(10,False)\n",
    "#df=df.toPandas()\n",
    "#df.head(5)"
   ]
  },
  {
   "cell_type": "code",
   "execution_count": 4,
   "id": "175350c6",
   "metadata": {},
   "outputs": [
    {
     "name": "stdout",
     "output_type": "stream",
     "text": [
      "+----------+--------------------+--------+-------------+--------------------+\n",
      "|  tweet_id|               Tweet|polarity|pre_clean_len|                text|\n",
      "+----------+--------------------+--------+-------------+--------------------+\n",
      "|1467810369|@switchfoot http:...|       0|          115|get day that thir...|\n",
      "|1467810672|is upset that he ...|       0|          111|result cry school...|\n",
      "|1467810917|@Kenichan I dived...|       0|           89|out ball save go ...|\n",
      "|1467811184|my whole body fee...|       0|           47|whole feel my bod...|\n",
      "|1467811193|@nationwideclass ...|       0|          111|at mad no all i c...|\n",
      "+----------+--------------------+--------+-------------+--------------------+\n",
      "only showing top 5 rows\n",
      "\n",
      "+--------+--------------------+--------+-------------+--------------------+\n",
      "|tweet_id|               Tweet|polarity|pre_clean_len|                text|\n",
      "+--------+--------------------+--------+-------------+--------------------+\n",
      "|       3|@stellargirl I lo...|       4|          111|fantastic i that ...|\n",
      "|       4|Reading my kindle...|       4|           58|read my lee child...|\n",
      "|       5|Ok, first assesme...|       4|           58|rock the of it first|\n",
      "|       6|@kenburbary You'l...|       4|          140|your new i few fo...|\n",
      "|       7|@mikefish  Fair e...|       4|           75|think fair i perf...|\n",
      "+--------+--------------------+--------+-------------+--------------------+\n",
      "only showing top 5 rows\n",
      "\n"
     ]
    }
   ],
   "source": [
    "from nltk.corpus.reader.wordnet import *\n",
    "from sklearn.feature_extraction.text import TfidfTransformer\n",
    "from nltk.tokenize import word_tokenize\n",
    "from pyspark.sql.types import StringType,DoubleType,IntegerType\n",
    "wn = nltk.WordNetLemmatizer()\n",
    "worddict = set(nltk.corpus.words.words())\n",
    "\n",
    "def preprocessing(text):\n",
    "    wordset_n = set(wn.lemmatize(w, NOUN) for w in word_tokenize(text.lower().strip()))\n",
    "    wordset_v = set(wn.lemmatize(w, VERB) for w in wordset_n)\n",
    "    wordset = set(wn.lemmatize(w, ADJ) for w in wordset_v)\n",
    "    wordset = wordset & worddict\n",
    "    return ' '.join(list(wordset))\n",
    "brand_udf=udf(preprocessing,StringType())\n",
    "df=df.withColumn('text',brand_udf(df['Tweet']))\n",
    "df2=df2.withColumn('text',brand_udf(df2['Tweet']))\n",
    "df.show(5)\n",
    "df2.show(5)"
   ]
  },
  {
   "cell_type": "code",
   "execution_count": 5,
   "id": "0b6c4306",
   "metadata": {},
   "outputs": [],
   "source": [
    "# Follow every follower of the authenticated user\n",
    "timeline = api.home_timeline()\n",
    "data = pd.DataFrame(data=[tweet.text for tweet in timeline], columns=['Tweet'])"
   ]
  },
  {
   "cell_type": "code",
   "execution_count": null,
   "id": "3a4b4f8e",
   "metadata": {},
   "outputs": [],
   "source": []
  }
 ],
 "metadata": {
  "kernelspec": {
   "display_name": "PyCharm (CS644)",
   "language": "python",
   "name": "pycharm-9bc77049"
  },
  "language_info": {
   "codemirror_mode": {
    "name": "ipython",
    "version": 3
   },
   "file_extension": ".py",
   "mimetype": "text/x-python",
   "name": "python",
   "nbconvert_exporter": "python",
   "pygments_lexer": "ipython3",
   "version": "3.9.7"
  }
 },
 "nbformat": 4,
 "nbformat_minor": 5
}
