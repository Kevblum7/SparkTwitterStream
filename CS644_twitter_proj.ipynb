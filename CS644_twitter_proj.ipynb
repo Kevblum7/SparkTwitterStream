{
 "cells": [
  {
   "cell_type": "code",
   "execution_count": 1,
   "id": "bb492070",
   "metadata": {},
   "outputs": [],
   "source": [
    "import findspark\n",
    "findspark.init('/Users/kevinblum/Apache-Spark/spark-3.1.2-bin-hadoop3.2')\n",
    "import tweepy\n",
    "import string\n",
    "import os\n",
    "import re\n",
    "import pyspark\n",
    "from pyspark.sql import SparkSession\n",
    "from pyspark import SparkContext\n",
    "from pyspark.streaming import StreamingContext\n",
    "import pyspark.sql.functions as F\n",
    "from pyspark.sql.functions import udf\n",
    "from pyspark.ml.feature import CountVectorizer\n",
    "#consumer_key = \"Ax79DI6gXdMjOCQyQ61v2Khbj\"\n",
    "#consumer_secret = \"DBSmfUL50FlhpVnePa373lOpBFffJjrGInXbSGG4T7Ze2RRQTl\"\n",
    "#access_token = \"1418173405988376579-9g3SF5klnWOgd62nUfTfaqrQdzkJRA\"\n",
    "#access_token_secret = \"q3jO28xbGDlvE6djCNeoSMQbtkosZYT7mBTv0O6wznMpw\"\n",
    "# Creating the authentication object\n",
    "#auth = tweepy.OAuthHandler(consumer_key, consumer_secret)\n",
    "# Setting your access token and secret\n",
    "#auth.set_access_token(access_token, access_token_secret)\n",
    "#api = tweepy.API(auth)\n"
   ]
  },
  {
   "cell_type": "code",
   "execution_count": 2,
   "id": "84cb0692",
   "metadata": {},
   "outputs": [],
   "source": [
    "#open 2 command prompts\n",
    "#terminal 1\n",
    "#cd %SPARK_HOME%\n",
    "#bin\\spark-class2.cmd org.apache.spark.deploy.master.Master\n",
    "#open in browser localhost:8080\n",
    "#terminal 2\n",
    "#cd %SPARK_HOME%\n",
    "#bin\\spark-class2.cmd org.apache.spark.deploy.worker.Worker -c 4 -m 32G spark://192.168.1.227:7077\n",
    "#open in browser localhost:8081\n",
    "spark = SparkSession.builder.master('spark://Kevins-MBP.home:7077').appName('classifier').config('spark.executor.memory', '32g').getOrCreate()\n",
    "df = spark.read.options(delimiter=\",\",header=False).csv(\"trainingandtestdata/training.1600000.processed.noemoticon.csv\")\n",
    "df=df.toDF('polarity','tweet_id','tweet_date','query_string','tweet_screen_name','Tweet')\n",
    "df2=spark.read.options(delimiter=\",\",header=False).csv(\"trainingandtestdata/testdata.manual.2009.06.14.csv\")\n",
    "df2=df2.toDF('polarity','tweet_id','tweet_date','query_string','tweet_screen_name','Tweet')"
   ]
  },
  {
   "cell_type": "code",
   "execution_count": null,
   "id": "175350c6",
   "metadata": {},
   "outputs": [],
   "source": [
    "from pyspark.sql.types import StringType\n",
    "def preprocessing(text):\n",
    "    # process the tweets\n",
    "\n",
    "    #Convert to lower case\n",
    "    tweet = text.lower()\n",
    "    #Convert www.* or https?://* to URL\n",
    "    tweet = re.sub('((www\\.[^\\s]+)|(https?://[^\\s]+))',' ',tweet)\n",
    "    #Convert @username to AT_USER\n",
    "    tweet = re.sub('@[^\\s]+',' ',tweet)\n",
    "    #Remove additional white spaces\n",
    "    tweet = re.sub('[\\s]+', ' ', tweet)\n",
    "    #Replace #word with word\n",
    "    tweet = re.sub(r'#([^\\s]+)', r'\\1', tweet)\n",
    "    #trim\n",
    "    tweet = tweet.strip('\\'\"')\n",
    "    return tweet\n",
    "tem=df.union(df2)\n",
    "brand_udf=udf(preprocessing,StringType())\n",
    "tem=tem.withColumn('text',brand_udf(tem['Tweet']))"
   ]
  },
  {
   "cell_type": "code",
   "execution_count": null,
   "id": "ac14afbc",
   "metadata": {},
   "outputs": [],
   "source": [
    "from pyspark.sql.types import IntegerType\n",
    "tem1=tem.select('tweet_id','Tweet','text','polarity')\n",
    "tem1 = tem1.withColumn('polarity', tem1['polarity'].cast(IntegerType()))\n",
    "(trainingData, testData) = tem1.randomSplit([0.8, 0.2])"
   ]
  },
  {
   "cell_type": "code",
   "execution_count": 5,
   "id": "50126d76",
   "metadata": {},
   "outputs": [],
   "source": [
    "from pyspark.ml.feature import HashingTF, IDF, Tokenizer\n",
    "from pyspark.ml import Pipeline\n",
    "from pyspark.ml.classification import LogisticRegression\n",
    "from pyspark.ml.classification import DecisionTreeClassifier\n",
    "from pyspark.ml.evaluation import MulticlassClassificationEvaluator\n",
    "from pyspark.ml.feature import IndexToString, StringIndexer, VectorIndexer\n",
    "\n",
    "# Configure an ML pipeline, which consists of tree stages: tokenizer, hashingTF, and nb.\n",
    "tokenizer = Tokenizer(inputCol=\"text\", outputCol=\"words\")\n",
    "hashingTF = HashingTF(inputCol=tokenizer.getOutputCol(), outputCol=\"rawFeatures\")\n",
    "idf = IDF(minDocFreq=2, inputCol=\"rawFeatures\", outputCol=\"features\")\n",
    "\n",
    "lr = LogisticRegression(labelCol='polarity')\n",
    "\n",
    "# Pipeline Architecture\n",
    "pipeline = Pipeline(stages=[tokenizer, hashingTF, idf, lr])\n",
    "\n",
    "# Train model.  This also runs the indexers.\n",
    "model = pipeline.fit(trainingData)"
   ]
  },
  {
   "cell_type": "code",
   "execution_count": 6,
   "id": "fc10fd04",
   "metadata": {},
   "outputs": [],
   "source": [
    "predictions = model.transform(testData)\n",
    "predictions1=predictions.toPandas()\n",
    "# Select example rows to display.\n",
    "#predictions.select(\"text\", \"polarity\", \"prediction\").show(5,False)"
   ]
  },
  {
   "cell_type": "code",
   "execution_count": 8,
   "id": "1f0b3dc8",
   "metadata": {},
   "outputs": [
    {
     "data": {
      "text/plain": [
       "Row(tweet_id='1467810369', Tweet=\"@switchfoot http://twitpic.com/2y1zl - Awww, that's a bummer.  You shoulda got David Carr of Third Day to do it. ;D\", text=\" - awww, that's a bummer. you shoulda got david carr of third day to do it. ;d\", polarity=0, words=['', '-', 'awww,', \"that's\", 'a', 'bummer.', 'you', 'shoulda', 'got', 'david', 'carr', 'of', 'third', 'day', 'to', 'do', 'it.', ';d'], rawFeatures=SparseVector(262144, {27576: 1.0, 38640: 1.0, 52803: 1.0, 107107: 1.0, 115994: 1.0, 127420: 1.0, 143501: 1.0, 148101: 1.0, 168211: 1.0, 173018: 1.0, 196041: 1.0, 214962: 1.0, 219087: 1.0, 225898: 1.0, 226790: 1.0, 242377: 1.0, 249180: 1.0, 254061: 1.0}), features=SparseVector(262144, {27576: 1.2567, 38640: 3.2717, 52803: 8.4601, 107107: 1.58, 115994: 3.3472, 127420: 8.517, 143501: 4.6982, 148101: 4.3451, 168211: 7.1534, 173018: 6.7644, 196041: 7.7009, 214962: 2.078, 219087: 2.2437, 225898: 3.305, 226790: 10.0549, 242377: 7.8141, 249180: 0.8098, 254061: 3.3144}), rawPrediction=DenseVector([7.501, -6.3212, -0.964, -6.3212, 6.1055]), probability=DenseVector([0.8013, 0.0, 0.0002, 0.0, 0.1985]), prediction=0.0)"
      ]
     },
     "execution_count": 8,
     "metadata": {},
     "output_type": "execute_result"
    }
   ],
   "source": [
    "predictions.head()"
   ]
  },
  {
   "cell_type": "code",
   "execution_count": 9,
   "id": "ddd06cb4",
   "metadata": {},
   "outputs": [
    {
     "name": "stdout",
     "output_type": "stream",
     "text": [
      "+----------+--------------------+--------------------+--------+\n",
      "|  tweet_id|               Tweet|                text|polarity|\n",
      "+----------+--------------------+--------------------+--------+\n",
      "|1467810369|@switchfoot http:...| - awww, that's a...|       0|\n",
      "|1467811372|@Kwesidei not the...| not the whole crew |       0|\n",
      "|1467812784|@smarrison i woul...| i would've been ...|       0|\n",
      "|1467814192|blagh class at 8 ...|blagh class at 8 ...|       0|\n",
      "|1467815923|some1 hacked my a...|some1 hacked my a...|       0|\n",
      "+----------+--------------------+--------------------+--------+\n",
      "only showing top 5 rows\n",
      "\n"
     ]
    }
   ],
   "source": [
    "testData.show(5)"
   ]
  },
  {
   "cell_type": "code",
   "execution_count": 11,
   "id": "09267173",
   "metadata": {},
   "outputs": [
    {
     "name": "stdout",
     "output_type": "stream",
     "text": [
      "root\n",
      " |-- tweet_id: string (nullable = true)\n",
      " |-- Tweet: string (nullable = true)\n",
      " |-- text: string (nullable = true)\n",
      " |-- polarity: integer (nullable = true)\n",
      "\n"
     ]
    }
   ],
   "source": [
    "testData.printSchema()"
   ]
  },
  {
   "cell_type": "code",
   "execution_count": 12,
   "id": "d5c676af",
   "metadata": {},
   "outputs": [
    {
     "data": {
      "text/plain": [
       "DataFrame[tweet_id: string, Tweet: string, text: string, polarity: int]"
      ]
     },
     "execution_count": 12,
     "metadata": {},
     "output_type": "execute_result"
    }
   ],
   "source": [
    "testData"
   ]
  },
  {
   "cell_type": "code",
   "execution_count": 10,
   "id": "c7722232",
   "metadata": {},
   "outputs": [],
   "source": [
    "model.save(\"/Users/kevinblum/BigDataProj/SparkTwitterStream/models/lr\")"
   ]
  },
  {
   "cell_type": "code",
   "execution_count": null,
   "id": "f1de0369",
   "metadata": {},
   "outputs": [],
   "source": [
    "from pyspark.ml.evaluation import MulticlassClassificationEvaluator\n",
    "\n",
    "# Select (prediction, true label) and compute test error\n",
    "evaluator = MulticlassClassificationEvaluator(\n",
    "    labelCol=\"polarity\", predictionCol=\"prediction\", metricName=\"accuracy\")\n",
    "accuracy = evaluator.evaluate(predictions)\n",
    "print(accuracy)"
   ]
  },
  {
   "cell_type": "code",
   "execution_count": null,
   "id": "aab672ae",
   "metadata": {},
   "outputs": [],
   "source": [
    "import pandas as pd\n",
    "import json\n",
    "testData=testData.toPandas()\n",
    "predictions=predictions1\n",
    "testData['prediction']=predictions['prediction']\n",
    "testData=testData[['tweet_id','Tweet','polarity','prediction']]\n",
    "spark.stop()"
   ]
  },
  {
   "cell_type": "code",
   "execution_count": null,
   "id": "37ba41a2",
   "metadata": {},
   "outputs": [],
   "source": [
    "import pymongo\n",
    "myclient = pymongo.MongoClient(\"mongodb://localhost:27017/\")\n",
    "mydb = myclient[\"mydatabase\"]\n",
    "mycol = mydb[\"tweet\"]\n",
    "records = json.loads(testData.T.to_json()).values()\n",
    "mydb.mycol.insert_many(records)"
   ]
  },
  {
   "cell_type": "code",
   "execution_count": null,
   "id": "368d8945",
   "metadata": {},
   "outputs": [],
   "source": [
    "print(lr)"
   ]
  },
  {
   "cell_type": "code",
   "execution_count": null,
   "id": "1475ad7a",
   "metadata": {},
   "outputs": [],
   "source": []
  }
 ],
 "metadata": {
  "kernelspec": {
   "display_name": "Python 3",
   "language": "python",
   "name": "python3"
  },
  "language_info": {
   "codemirror_mode": {
    "name": "ipython",
    "version": 3
   },
   "file_extension": ".py",
   "mimetype": "text/x-python",
   "name": "python",
   "nbconvert_exporter": "python",
   "pygments_lexer": "ipython3",
   "version": "3.8.8"
  }
 },
 "nbformat": 4,
 "nbformat_minor": 5
}
