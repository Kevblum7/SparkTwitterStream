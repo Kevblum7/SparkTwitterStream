{
 "cells": [
  {
   "cell_type": "code",
   "execution_count": 1,
   "id": "bb492070",
   "metadata": {},
   "outputs": [],
   "source": [
    "import tweepy\n",
    "import pandas as pd\n",
    "import nltk\n",
    "import string\n",
    "import os\n",
    "import re\n",
    "from pyspark.sql import SparkSession\n",
    "import pyspark.sql.functions as F\n",
    "from pyspark.sql.functions import udf\n",
    "from pyspark.ml.feature import CountVectorizer\n",
    "consumer_key = \"Ax79DI6gXdMjOCQyQ61v2Khbj\"\n",
    "consumer_secret = \"DBSmfUL50FlhpVnePa373lOpBFffJjrGInXbSGG4T7Ze2RRQTl\"\n",
    "access_token = \"1418173405988376579-9g3SF5klnWOgd62nUfTfaqrQdzkJRA\"\n",
    "access_token_secret = \"q3jO28xbGDlvE6djCNeoSMQbtkosZYT7mBTv0O6wznMpw\"\n",
    "# Creating the authentication object\n",
    "auth = tweepy.OAuthHandler(consumer_key, consumer_secret)\n",
    "# Setting your access token and secret\n",
    "auth.set_access_token(access_token, access_token_secret)\n",
    "api = tweepy.API(auth)\n"
   ]
  },
  {
   "cell_type": "code",
   "execution_count": 2,
   "id": "84cb0692",
   "metadata": {},
   "outputs": [
    {
     "name": "stdout",
     "output_type": "stream",
     "text": [
      "+--------+----------+--------------------+------------+-----------------+--------------------+\n",
      "|polarity|  tweet_id|          tweet_date|query_string|tweet_screen_name|               Tweet|\n",
      "+--------+----------+--------------------+------------+-----------------+--------------------+\n",
      "|       0|1467810369|Mon Apr 06 22:19:...|    NO_QUERY|  _TheSpecialOne_|@switchfoot http:...|\n",
      "|       0|1467810672|Mon Apr 06 22:19:...|    NO_QUERY|    scotthamilton|is upset that he ...|\n",
      "|       0|1467810917|Mon Apr 06 22:19:...|    NO_QUERY|         mattycus|@Kenichan I dived...|\n",
      "|       0|1467811184|Mon Apr 06 22:19:...|    NO_QUERY|          ElleCTF|my whole body fee...|\n",
      "|       0|1467811193|Mon Apr 06 22:19:...|    NO_QUERY|           Karoli|@nationwideclass ...|\n",
      "+--------+----------+--------------------+------------+-----------------+--------------------+\n",
      "only showing top 5 rows\n",
      "\n",
      "+--------+--------+--------------------+------------+-----------------+--------------------+\n",
      "|polarity|tweet_id|          tweet_date|query_string|tweet_screen_name|               Tweet|\n",
      "+--------+--------+--------------------+------------+-----------------+--------------------+\n",
      "|       4|       3|Mon May 11 03:17:...|     kindle2|           tpryan|@stellargirl I lo...|\n",
      "|       4|       4|Mon May 11 03:18:...|     kindle2|           vcu451|Reading my kindle...|\n",
      "|       4|       5|Mon May 11 03:18:...|     kindle2|           chadfu|Ok, first assesme...|\n",
      "|       4|       6|Mon May 11 03:19:...|     kindle2|            SIX15|@kenburbary You'l...|\n",
      "|       4|       7|Mon May 11 03:21:...|     kindle2|         yamarama|@mikefish  Fair e...|\n",
      "+--------+--------+--------------------+------------+-----------------+--------------------+\n",
      "only showing top 5 rows\n",
      "\n"
     ]
    }
   ],
   "source": [
    "spark = SparkSession.builder.master('local[6]').appName('classifier').getOrCreate()\n",
    "df = spark.read.csv(\"trainingandtestdata/training.1600000.processed.noemoticon.csv\")\n",
    "df=df.toDF('polarity','tweet_id','tweet_date','query_string','tweet_screen_name','Tweet')\n",
    "df2=spark.read.csv(\"trainingandtestdata/testdata.manual.2009.06.14.csv\")\n",
    "df2=df2.toDF('polarity','tweet_id','tweet_date','query_string','tweet_screen_name','Tweet')\n",
    "df.show(5)\n",
    "df2.show(5)"
   ]
  },
  {
   "cell_type": "code",
   "execution_count": 3,
   "id": "03752022",
   "metadata": {},
   "outputs": [
    {
     "name": "stdout",
     "output_type": "stream",
     "text": [
      "+--------+------+\n",
      "|polarity|count |\n",
      "+--------+------+\n",
      "|0       |800000|\n",
      "|4       |800000|\n",
      "+--------+------+\n",
      "\n",
      "+--------+-----+\n",
      "|polarity|count|\n",
      "+--------+-----+\n",
      "|4       |182  |\n",
      "|0       |177  |\n",
      "|2       |139  |\n",
      "+--------+-----+\n",
      "\n"
     ]
    }
   ],
   "source": [
    "df=df[['tweet_id','query_string','Tweet','polarity']]\n",
    "df2=df2[['tweet_id','query_string','Tweet','polarity']]\n",
    "df.groupBy('polarity').count().orderBy('count',ascending=False).show(10,False)\n",
    "df2.groupBy('polarity').count().orderBy('count',ascending=False).show(10,False)\n",
    "#df=df.toPandas()\n",
    "#df.head(5)"
   ]
  },
  {
   "cell_type": "code",
   "execution_count": 4,
   "id": "175350c6",
   "metadata": {},
   "outputs": [],
   "source": [
    "from nltk.corpus.reader.wordnet import *\n",
    "from sklearn.feature_extraction.text import TfidfTransformer\n",
    "from nltk.tokenize import word_tokenize\n",
    "from pyspark.sql.types import StringType,DoubleType,IntegerType\n",
    "wn = nltk.WordNetLemmatizer()\n",
    "worddict = set(nltk.corpus.words.words())\n",
    "\n",
    "def preprocessing(text):\n",
    "    wordset_n = set(wn.lemmatize(w, NOUN) for w in word_tokenize(text.lower().strip()))\n",
    "    wordset_v = set(wn.lemmatize(w, VERB) for w in wordset_n)\n",
    "    wordset = set(wn.lemmatize(w, ADJ) for w in wordset_v)\n",
    "    wordset = wordset & worddict\n",
    "    return ' '.join(list(wordset))\n",
    "brand_udf=udf(preprocessing,StringType())\n",
    "df=df.withColumn('text',brand_udf(df['Tweet']))\n",
    "df=df.withColumn('clean_len',F.length('text'))\n",
    "df2=df2.withColumn('text',brand_udf(df2['Tweet']))\n",
    "df2=df2.withColumn('clean_len',F.length('text'))\n",
    "#tem=df.union(df2)\n",
    "#tem.show()"
   ]
  },
  {
   "cell_type": "code",
   "execution_count": 5,
   "id": "bca4f0ca",
   "metadata": {},
   "outputs": [],
   "source": [
    "from pyspark.ml.feature import  Tokenizer\n",
    "tokenizer = Tokenizer(inputCol=\"text\", outputCol=\"words\")\n",
    "#tem = tokenizer.transform(tem)\n",
    "df=tokenizer.transform(df)\n",
    "df2=tokenizer.transform(df2)"
   ]
  },
  {
   "cell_type": "code",
   "execution_count": 6,
   "id": "6414ed7e",
   "metadata": {},
   "outputs": [],
   "source": [
    "from pyspark.ml.feature import CountVectorizer\n",
    "count = CountVectorizer (inputCol=\"words\", outputCol=\"rawFeatures\")\n",
    "#model = count.fit(tem)\n",
    "#tem = model.transform(tem)\n",
    "#tem.show()\n",
    "model1=count.fit(df)\n",
    "df=model1.transform(df)\n",
    "model2=count.fit(df2)\n",
    "df2=model2.transform(df2)"
   ]
  },
  {
   "cell_type": "code",
   "execution_count": 7,
   "id": "f56d75d5",
   "metadata": {},
   "outputs": [],
   "source": [
    "from pyspark.ml.feature import  IDF\n",
    "idf = IDF(inputCol=\"rawFeatures\", outputCol=\"features\")\n",
    "#idfModel = idf.fit(tem)\n",
    "#tem = idfModel.transform(tem)\n",
    "#tem = tem.withColumn('polarity', tem['polarity'].cast(IntegerType()))\n",
    "idfModel = idf.fit(df)\n",
    "df = idfModel.transform(df)\n",
    "df = df.withColumn('polarity', df['polarity'].cast(IntegerType()))\n",
    "idfModel = idf.fit(df2)\n",
    "df2 = idfModel.transform(df2)\n",
    "df2 = df2.withColumn('polarity', df2['polarity'].cast(IntegerType()))\n",
    "trainingDF,testDF = df.randomSplit([0.8, 0.2])"
   ]
  },
  {
   "cell_type": "code",
   "execution_count": null,
   "id": "ef88294b",
   "metadata": {},
   "outputs": [],
   "source": [
    "trainingDF.select('polarity','text','words','rawFeatures').show(10)"
   ]
  },
  {
   "cell_type": "code",
   "execution_count": null,
   "id": "0b6c4306",
   "metadata": {},
   "outputs": [],
   "source": [
    "# Follow every follower of the authenticated user\n",
    "timeline = api.home_timeline()\n",
    "data = pd.DataFrame(data=[tweet.text for tweet in timeline], columns=['Tweet'])"
   ]
  },
  {
   "cell_type": "code",
   "execution_count": null,
   "id": "4c607311",
   "metadata": {},
   "outputs": [],
   "source": []
  }
 ],
 "metadata": {
  "kernelspec": {
   "display_name": "PyCharm (CS644)",
   "language": "python",
   "name": "pycharm-9bc77049"
  },
  "language_info": {
   "codemirror_mode": {
    "name": "ipython",
    "version": 3
   },
   "file_extension": ".py",
   "mimetype": "text/x-python",
   "name": "python",
   "nbconvert_exporter": "python",
   "pygments_lexer": "ipython3",
   "version": "3.9.7"
  }
 },
 "nbformat": 4,
 "nbformat_minor": 5
}
