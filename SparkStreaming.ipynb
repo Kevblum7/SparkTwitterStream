{
 "cells": [
  {
   "cell_type": "markdown",
   "metadata": {},
   "source": [
    "# First Spark Streaming Example\n",
    "_____"
   ]
  },
  {
   "cell_type": "markdown",
   "metadata": {},
   "source": [
    "# Twitter Example\n",
    "Set up the credentials for a twitter app at https://apps.twitter.com/\n",
    "    \n",
    "install python-twitter, a python library to connect your Python to the twitter dev account.\n",
    "\n",
    "Begin by running the TweetRead.py file. Make sure to add your own IP Adress and your credential keys."
   ]
  },
  {
   "cell_type": "code",
   "execution_count": 1,
   "metadata": {},
   "outputs": [],
   "source": [
    "import findspark"
   ]
  },
  {
   "cell_type": "code",
   "execution_count": 2,
   "metadata": {},
   "outputs": [],
   "source": [
    "# your path will likely not have 'matthew' in it. Change it to reflect your path.\n",
    "findspark.init('/Users/kevinblum/Apache-Spark/spark-3.1.2-bin-hadoop3.2')"
   ]
  },
  {
   "cell_type": "code",
   "execution_count": 3,
   "metadata": {},
   "outputs": [],
   "source": [
    "# May cause deprecation warnings, safe to ignore, they aren't errors\n",
    "from pyspark import SparkContext\n",
    "from pyspark.streaming import StreamingContext\n",
    "from pyspark.sql import SQLContext\n",
    "from pyspark.sql.functions import desc\n",
    "from pyspark.sql import SparkSession\n",
    "from pyspark.ml.feature import Tokenizer\n",
    "from pyspark.ml import PipelineModel\n",
    "from pyspark.ml.feature import CountVectorizer"
   ]
  },
  {
   "cell_type": "code",
   "execution_count": 4,
   "metadata": {},
   "outputs": [],
   "source": [
    "spark = spark = SparkSession \\\n",
    "    .builder \\\n",
    "    .appName(\"Twitter Streaming App\") \\\n",
    "    .getOrCreate()\n",
    "\n",
    "tweet_df = spark \\\n",
    "    .readStream \\\n",
    "    .format(\"socket\") \\\n",
    "    .option(\"host\", \"127.0.0.1\") \\\n",
    "    .option(\"port\", 5556) \\\n",
    "    .load()\n",
    "\n",
    "tweet_df_string = tweet_df.selectExpr(\"CAST(value AS STRING)\")"
   ]
  },
  {
   "cell_type": "code",
   "execution_count": 5,
   "metadata": {},
   "outputs": [],
   "source": [
    "tweet_df_string = tweet_df_string.withColumnRenamed(\"value\" , \"tweet\")"
   ]
  },
  {
   "cell_type": "code",
   "execution_count": 6,
   "metadata": {},
   "outputs": [],
   "source": [
    "writeTweet = tweet_df_string.writeStream.format(\"csv\").\\\n",
    "    option(\"format\" , \"append\").\\\n",
    "    option(\"path\", \"/Users/kevinblum/BigDataProj/SparkTwitterStream/tweets.csv\").\\\n",
    "    option(\"checkpointLocation\" , \"checkpoints\").\\\n",
    "    queryName(\"tweetquery\"). \\\n",
    "    start()\n"
   ]
  },
  {
   "cell_type": "code",
   "execution_count": 7,
   "metadata": {},
   "outputs": [],
   "source": [
    "import time\n",
    "time.sleep(30) \n",
    "writeTweet.stop()"
   ]
  },
  {
   "cell_type": "code",
   "execution_count": 8,
   "metadata": {},
   "outputs": [],
   "source": [
    "import pandas as pd"
   ]
  },
  {
   "cell_type": "code",
   "execution_count": 9,
   "metadata": {},
   "outputs": [],
   "source": [
    "import os\n",
    "import glob\n",
    "import pandas as pd\n",
    "os.chdir(\"/Users/kevinblum/BigDataProj/SparkTwitterStream/tweets.csv\")"
   ]
  },
  {
   "cell_type": "code",
   "execution_count": 10,
   "metadata": {},
   "outputs": [],
   "source": [
    "extension = 'csv'\n",
    "all_filenames = [i for i in glob.glob('*.{}'.format(extension))]\n"
   ]
  },
  {
   "cell_type": "code",
   "execution_count": 11,
   "metadata": {},
   "outputs": [],
   "source": [
    "dataframe = pd.DataFrame()\n",
    "for i in all_filenames:\n",
    "    if (os.stat(f\"/Users/kevinblum/BigDataProj/SparkTwitterStream/tweets.csv/{i}\").st_size != 0):\n",
    "        try:\n",
    "            d = pd.read_csv(f\"/Users/kevinblum/BigDataProj/SparkTwitterStream/tweets.csv/{i}\" , engine=\"python\")\n",
    "            dt = d.T\n",
    "            dt = dt.reset_index()\n",
    "            dataframe = dataframe.append(dt)\n",
    "        except:\n",
    "            pass\n",
    "\n",
    "dataframe = dataframe.rename(columns={\"index\" : \"tweet\"})\n",
    "dataframe = dataframe.astype(str).apply(lambda x: x.str.encode('ascii', 'ignore').str.decode('ascii'))\n",
    "dataframe = dataframe.reset_index(drop=True)\n"
   ]
  },
  {
   "cell_type": "code",
   "execution_count": 12,
   "metadata": {},
   "outputs": [
    {
     "data": {
      "text/html": [
       "<div>\n",
       "<style scoped>\n",
       "    .dataframe tbody tr th:only-of-type {\n",
       "        vertical-align: middle;\n",
       "    }\n",
       "\n",
       "    .dataframe tbody tr th {\n",
       "        vertical-align: top;\n",
       "    }\n",
       "\n",
       "    .dataframe thead th {\n",
       "        text-align: right;\n",
       "    }\n",
       "</style>\n",
       "<table border=\"1\" class=\"dataframe\">\n",
       "  <thead>\n",
       "    <tr style=\"text-align: right;\">\n",
       "      <th></th>\n",
       "      <th>tweet</th>\n",
       "    </tr>\n",
       "  </thead>\n",
       "  <tbody>\n",
       "    <tr>\n",
       "      <th>0</th>\n",
       "      <td>lmfao hot damn@QuantumVigilan1 @PMasalsky But ...</td>\n",
       "    </tr>\n",
       "    <tr>\n",
       "      <th>1</th>\n",
       "      <td>I wonder if hRT @Breaking911: BREAKING: Presid...</td>\n",
       "    </tr>\n",
       "    <tr>\n",
       "      <th>2</th>\n",
       "      <td>The pRT @pilitobar46:  Madam @VPRT @elefaantz:...</td>\n",
       "    </tr>\n",
       "    <tr>\n",
       "      <th>3</th>\n",
       "      <td>Tu NO has fet res. Com a President no has fPre...</td>\n",
       "    </tr>\n",
       "    <tr>\n",
       "      <th>4</th>\n",
       "      <td>Its Joe Biden, and I'm Vice President, and my ...</td>\n",
       "    </tr>\n",
       "    <tr>\n",
       "      <th>5</th>\n",
       "      <td>Kamala Har@DennyMcCombs6 @bluegirlsrule1 @madd...</td>\n",
       "    </tr>\n",
       "    <tr>\n",
       "      <th>6</th>\n",
       "      <td>Washington https://t.co/MlSbsxWpof@63aMarsh @Y...</td>\n",
       "    </tr>\n",
       "    <tr>\n",
       "      <th>7</th>\n",
       "      <td>1. Not becoming president</td>\n",
       "    </tr>\n",
       "    <tr>\n",
       "      <th>8</th>\n",
       "      <td>Els que hem plantat cara hem estat els ciutadans.</td>\n",
       "    </tr>\n",
       "    <tr>\n",
       "      <th>9</th>\n",
       "      <td>No. No. No. No. No. No. No.</td>\n",
       "    </tr>\n",
       "    <tr>\n",
       "      <th>10</th>\n",
       "      <td>#AnditoTayoParaSalsatIsa https://t.coRT @antif...</td>\n",
       "    </tr>\n",
       "    <tr>\n",
       "      <th>11</th>\n",
       "      <td>Really shows you what kind@claudiatenney The c...</td>\n",
       "    </tr>\n",
       "    <tr>\n",
       "      <th>12</th>\n",
       "      <td>The speaker,  nor senate minority leader has c...</td>\n",
       "    </tr>\n",
       "    <tr>\n",
       "      <th>13</th>\n",
       "      <td>Kamala Harris Aide Tried to InterveneRT @chipf...</td>\n",
       "    </tr>\n",
       "    <tr>\n",
       "      <th>14</th>\n",
       "      <td>Harris aide Symone Sanders cuts him off, prete...</td>\n",
       "    </tr>\n",
       "    <tr>\n",
       "      <th>15</th>\n",
       "      <td>Go Fuck Yourself!!RT @donlaurent92: My preside...</td>\n",
       "    </tr>\n",
       "    <tr>\n",
       "      <th>16</th>\n",
       "      <td>Raise your hand if yRT @BarackObama: Proud of ...</td>\n",
       "    </tr>\n",
       "    <tr>\n",
       "      <th>17</th>\n",
       "      <td>#ABSCBNChristmasSpecial2021</td>\n",
       "    </tr>\n",
       "    <tr>\n",
       "      <th>18</th>\n",
       "      <td>Had no opinion on whether Biden would ruRT @Dr...</td>\n",
       "    </tr>\n",
       "    <tr>\n",
       "      <th>19</th>\n",
       "      <td>President Donald J. Trump:</td>\n",
       "    </tr>\n",
       "    <tr>\n",
       "      <th>20</th>\n",
       "      <td>Joe Biden is responsible for firing healthy mi...</td>\n",
       "    </tr>\n",
       "    <tr>\n",
       "      <th>21</th>\n",
       "      <td>Facebook thought the Big Tech can cancel/silen...</td>\n",
       "    </tr>\n",
       "  </tbody>\n",
       "</table>\n",
       "</div>"
      ],
      "text/plain": [
       "                                                tweet\n",
       "0   lmfao hot damn@QuantumVigilan1 @PMasalsky But ...\n",
       "1   I wonder if hRT @Breaking911: BREAKING: Presid...\n",
       "2   The pRT @pilitobar46:  Madam @VPRT @elefaantz:...\n",
       "3   Tu NO has fet res. Com a President no has fPre...\n",
       "4   Its Joe Biden, and I'm Vice President, and my ...\n",
       "5   Kamala Har@DennyMcCombs6 @bluegirlsrule1 @madd...\n",
       "6   Washington https://t.co/MlSbsxWpof@63aMarsh @Y...\n",
       "7                           1. Not becoming president\n",
       "8   Els que hem plantat cara hem estat els ciutadans.\n",
       "9                         No. No. No. No. No. No. No.\n",
       "10  #AnditoTayoParaSalsatIsa https://t.coRT @antif...\n",
       "11  Really shows you what kind@claudiatenney The c...\n",
       "12  The speaker,  nor senate minority leader has c...\n",
       "13  Kamala Harris Aide Tried to InterveneRT @chipf...\n",
       "14  Harris aide Symone Sanders cuts him off, prete...\n",
       "15  Go Fuck Yourself!!RT @donlaurent92: My preside...\n",
       "16  Raise your hand if yRT @BarackObama: Proud of ...\n",
       "17                        #ABSCBNChristmasSpecial2021\n",
       "18  Had no opinion on whether Biden would ruRT @Dr...\n",
       "19                         President Donald J. Trump:\n",
       "20  Joe Biden is responsible for firing healthy mi...\n",
       "21  Facebook thought the Big Tech can cancel/silen..."
      ]
     },
     "execution_count": 12,
     "metadata": {},
     "output_type": "execute_result"
    }
   ],
   "source": [
    "dataframe"
   ]
  },
  {
   "cell_type": "code",
   "execution_count": 13,
   "metadata": {},
   "outputs": [],
   "source": [
    "\n",
    "for y in range(dataframe.size):\n",
    "    if dataframe.iat[y,0] == \"\":\n",
    "        dataframe = dataframe.drop([y,0])"
   ]
  },
  {
   "cell_type": "code",
   "execution_count": 14,
   "metadata": {},
   "outputs": [
    {
     "data": {
      "text/html": [
       "<div>\n",
       "<style scoped>\n",
       "    .dataframe tbody tr th:only-of-type {\n",
       "        vertical-align: middle;\n",
       "    }\n",
       "\n",
       "    .dataframe tbody tr th {\n",
       "        vertical-align: top;\n",
       "    }\n",
       "\n",
       "    .dataframe thead th {\n",
       "        text-align: right;\n",
       "    }\n",
       "</style>\n",
       "<table border=\"1\" class=\"dataframe\">\n",
       "  <thead>\n",
       "    <tr style=\"text-align: right;\">\n",
       "      <th></th>\n",
       "      <th>tweet</th>\n",
       "    </tr>\n",
       "  </thead>\n",
       "  <tbody>\n",
       "    <tr>\n",
       "      <th>0</th>\n",
       "      <td>lmfao hot damn@QuantumVigilan1 @PMasalsky But ...</td>\n",
       "    </tr>\n",
       "    <tr>\n",
       "      <th>1</th>\n",
       "      <td>I wonder if hRT @Breaking911: BREAKING: Presid...</td>\n",
       "    </tr>\n",
       "    <tr>\n",
       "      <th>2</th>\n",
       "      <td>The pRT @pilitobar46:  Madam @VPRT @elefaantz:...</td>\n",
       "    </tr>\n",
       "    <tr>\n",
       "      <th>3</th>\n",
       "      <td>Tu NO has fet res. Com a President no has fPre...</td>\n",
       "    </tr>\n",
       "    <tr>\n",
       "      <th>4</th>\n",
       "      <td>Its Joe Biden, and I'm Vice President, and my ...</td>\n",
       "    </tr>\n",
       "    <tr>\n",
       "      <th>5</th>\n",
       "      <td>Kamala Har@DennyMcCombs6 @bluegirlsrule1 @madd...</td>\n",
       "    </tr>\n",
       "    <tr>\n",
       "      <th>6</th>\n",
       "      <td>Washington https://t.co/MlSbsxWpof@63aMarsh @Y...</td>\n",
       "    </tr>\n",
       "    <tr>\n",
       "      <th>7</th>\n",
       "      <td>1. Not becoming president</td>\n",
       "    </tr>\n",
       "    <tr>\n",
       "      <th>8</th>\n",
       "      <td>Els que hem plantat cara hem estat els ciutadans.</td>\n",
       "    </tr>\n",
       "    <tr>\n",
       "      <th>9</th>\n",
       "      <td>No. No. No. No. No. No. No.</td>\n",
       "    </tr>\n",
       "    <tr>\n",
       "      <th>10</th>\n",
       "      <td>#AnditoTayoParaSalsatIsa https://t.coRT @antif...</td>\n",
       "    </tr>\n",
       "    <tr>\n",
       "      <th>11</th>\n",
       "      <td>Really shows you what kind@claudiatenney The c...</td>\n",
       "    </tr>\n",
       "    <tr>\n",
       "      <th>12</th>\n",
       "      <td>The speaker,  nor senate minority leader has c...</td>\n",
       "    </tr>\n",
       "    <tr>\n",
       "      <th>13</th>\n",
       "      <td>Kamala Harris Aide Tried to InterveneRT @chipf...</td>\n",
       "    </tr>\n",
       "    <tr>\n",
       "      <th>14</th>\n",
       "      <td>Harris aide Symone Sanders cuts him off, prete...</td>\n",
       "    </tr>\n",
       "    <tr>\n",
       "      <th>15</th>\n",
       "      <td>Go Fuck Yourself!!RT @donlaurent92: My preside...</td>\n",
       "    </tr>\n",
       "    <tr>\n",
       "      <th>16</th>\n",
       "      <td>Raise your hand if yRT @BarackObama: Proud of ...</td>\n",
       "    </tr>\n",
       "    <tr>\n",
       "      <th>17</th>\n",
       "      <td>#ABSCBNChristmasSpecial2021</td>\n",
       "    </tr>\n",
       "    <tr>\n",
       "      <th>18</th>\n",
       "      <td>Had no opinion on whether Biden would ruRT @Dr...</td>\n",
       "    </tr>\n",
       "    <tr>\n",
       "      <th>19</th>\n",
       "      <td>President Donald J. Trump:</td>\n",
       "    </tr>\n",
       "    <tr>\n",
       "      <th>20</th>\n",
       "      <td>Joe Biden is responsible for firing healthy mi...</td>\n",
       "    </tr>\n",
       "    <tr>\n",
       "      <th>21</th>\n",
       "      <td>Facebook thought the Big Tech can cancel/silen...</td>\n",
       "    </tr>\n",
       "  </tbody>\n",
       "</table>\n",
       "</div>"
      ],
      "text/plain": [
       "                                                tweet\n",
       "0   lmfao hot damn@QuantumVigilan1 @PMasalsky But ...\n",
       "1   I wonder if hRT @Breaking911: BREAKING: Presid...\n",
       "2   The pRT @pilitobar46:  Madam @VPRT @elefaantz:...\n",
       "3   Tu NO has fet res. Com a President no has fPre...\n",
       "4   Its Joe Biden, and I'm Vice President, and my ...\n",
       "5   Kamala Har@DennyMcCombs6 @bluegirlsrule1 @madd...\n",
       "6   Washington https://t.co/MlSbsxWpof@63aMarsh @Y...\n",
       "7                           1. Not becoming president\n",
       "8   Els que hem plantat cara hem estat els ciutadans.\n",
       "9                         No. No. No. No. No. No. No.\n",
       "10  #AnditoTayoParaSalsatIsa https://t.coRT @antif...\n",
       "11  Really shows you what kind@claudiatenney The c...\n",
       "12  The speaker,  nor senate minority leader has c...\n",
       "13  Kamala Harris Aide Tried to InterveneRT @chipf...\n",
       "14  Harris aide Symone Sanders cuts him off, prete...\n",
       "15  Go Fuck Yourself!!RT @donlaurent92: My preside...\n",
       "16  Raise your hand if yRT @BarackObama: Proud of ...\n",
       "17                        #ABSCBNChristmasSpecial2021\n",
       "18  Had no opinion on whether Biden would ruRT @Dr...\n",
       "19                         President Donald J. Trump:\n",
       "20  Joe Biden is responsible for firing healthy mi...\n",
       "21  Facebook thought the Big Tech can cancel/silen..."
      ]
     },
     "execution_count": 14,
     "metadata": {},
     "output_type": "execute_result"
    }
   ],
   "source": [
    "dataframe\n"
   ]
  },
  {
   "cell_type": "code",
   "execution_count": 15,
   "metadata": {},
   "outputs": [
    {
     "data": {
      "text/html": [
       "<div>\n",
       "<style scoped>\n",
       "    .dataframe tbody tr th:only-of-type {\n",
       "        vertical-align: middle;\n",
       "    }\n",
       "\n",
       "    .dataframe tbody tr th {\n",
       "        vertical-align: top;\n",
       "    }\n",
       "\n",
       "    .dataframe thead th {\n",
       "        text-align: right;\n",
       "    }\n",
       "</style>\n",
       "<table border=\"1\" class=\"dataframe\">\n",
       "  <thead>\n",
       "    <tr style=\"text-align: right;\">\n",
       "      <th></th>\n",
       "      <th>tweet</th>\n",
       "    </tr>\n",
       "  </thead>\n",
       "  <tbody>\n",
       "    <tr>\n",
       "      <th>0</th>\n",
       "      <td>lmfao hot damn@QuantumVigilan1 @PMasalsky But ...</td>\n",
       "    </tr>\n",
       "    <tr>\n",
       "      <th>1</th>\n",
       "      <td>I wonder if hRT @Breaking911: BREAKING: Presid...</td>\n",
       "    </tr>\n",
       "    <tr>\n",
       "      <th>2</th>\n",
       "      <td>The pRT @pilitobar46:  Madam @VPRT @elefaantz:...</td>\n",
       "    </tr>\n",
       "    <tr>\n",
       "      <th>3</th>\n",
       "      <td>Tu NO has fet res. Com a President no has fPre...</td>\n",
       "    </tr>\n",
       "    <tr>\n",
       "      <th>4</th>\n",
       "      <td>Its Joe Biden, and I'm Vice President, and my ...</td>\n",
       "    </tr>\n",
       "    <tr>\n",
       "      <th>5</th>\n",
       "      <td>Kamala Har@DennyMcCombs6 @bluegirlsrule1 @madd...</td>\n",
       "    </tr>\n",
       "    <tr>\n",
       "      <th>6</th>\n",
       "      <td>Washington https://t.co/MlSbsxWpof@63aMarsh @Y...</td>\n",
       "    </tr>\n",
       "    <tr>\n",
       "      <th>7</th>\n",
       "      <td>1. Not becoming president</td>\n",
       "    </tr>\n",
       "    <tr>\n",
       "      <th>8</th>\n",
       "      <td>Els que hem plantat cara hem estat els ciutadans.</td>\n",
       "    </tr>\n",
       "    <tr>\n",
       "      <th>9</th>\n",
       "      <td>No. No. No. No. No. No. No.</td>\n",
       "    </tr>\n",
       "    <tr>\n",
       "      <th>10</th>\n",
       "      <td>#AnditoTayoParaSalsatIsa https://t.coRT @antif...</td>\n",
       "    </tr>\n",
       "    <tr>\n",
       "      <th>11</th>\n",
       "      <td>Really shows you what kind@claudiatenney The c...</td>\n",
       "    </tr>\n",
       "    <tr>\n",
       "      <th>12</th>\n",
       "      <td>The speaker,  nor senate minority leader has c...</td>\n",
       "    </tr>\n",
       "    <tr>\n",
       "      <th>13</th>\n",
       "      <td>Kamala Harris Aide Tried to InterveneRT @chipf...</td>\n",
       "    </tr>\n",
       "    <tr>\n",
       "      <th>14</th>\n",
       "      <td>Harris aide Symone Sanders cuts him off, prete...</td>\n",
       "    </tr>\n",
       "    <tr>\n",
       "      <th>15</th>\n",
       "      <td>Go Fuck Yourself!!RT @donlaurent92: My preside...</td>\n",
       "    </tr>\n",
       "    <tr>\n",
       "      <th>16</th>\n",
       "      <td>Raise your hand if yRT @BarackObama: Proud of ...</td>\n",
       "    </tr>\n",
       "    <tr>\n",
       "      <th>17</th>\n",
       "      <td>#ABSCBNChristmasSpecial2021</td>\n",
       "    </tr>\n",
       "    <tr>\n",
       "      <th>18</th>\n",
       "      <td>Had no opinion on whether Biden would ruRT @Dr...</td>\n",
       "    </tr>\n",
       "    <tr>\n",
       "      <th>19</th>\n",
       "      <td>President Donald J. Trump:</td>\n",
       "    </tr>\n",
       "    <tr>\n",
       "      <th>20</th>\n",
       "      <td>Joe Biden is responsible for firing healthy mi...</td>\n",
       "    </tr>\n",
       "    <tr>\n",
       "      <th>21</th>\n",
       "      <td>Facebook thought the Big Tech can cancel/silen...</td>\n",
       "    </tr>\n",
       "  </tbody>\n",
       "</table>\n",
       "</div>"
      ],
      "text/plain": [
       "                                                tweet\n",
       "0   lmfao hot damn@QuantumVigilan1 @PMasalsky But ...\n",
       "1   I wonder if hRT @Breaking911: BREAKING: Presid...\n",
       "2   The pRT @pilitobar46:  Madam @VPRT @elefaantz:...\n",
       "3   Tu NO has fet res. Com a President no has fPre...\n",
       "4   Its Joe Biden, and I'm Vice President, and my ...\n",
       "5   Kamala Har@DennyMcCombs6 @bluegirlsrule1 @madd...\n",
       "6   Washington https://t.co/MlSbsxWpof@63aMarsh @Y...\n",
       "7                           1. Not becoming president\n",
       "8   Els que hem plantat cara hem estat els ciutadans.\n",
       "9                         No. No. No. No. No. No. No.\n",
       "10  #AnditoTayoParaSalsatIsa https://t.coRT @antif...\n",
       "11  Really shows you what kind@claudiatenney The c...\n",
       "12  The speaker,  nor senate minority leader has c...\n",
       "13  Kamala Harris Aide Tried to InterveneRT @chipf...\n",
       "14  Harris aide Symone Sanders cuts him off, prete...\n",
       "15  Go Fuck Yourself!!RT @donlaurent92: My preside...\n",
       "16  Raise your hand if yRT @BarackObama: Proud of ...\n",
       "17                        #ABSCBNChristmasSpecial2021\n",
       "18  Had no opinion on whether Biden would ruRT @Dr...\n",
       "19                         President Donald J. Trump:\n",
       "20  Joe Biden is responsible for firing healthy mi...\n",
       "21  Facebook thought the Big Tech can cancel/silen..."
      ]
     },
     "execution_count": 15,
     "metadata": {},
     "output_type": "execute_result"
    }
   ],
   "source": [
    "dataframe.reset_index(drop=True)"
   ]
  },
  {
   "cell_type": "code",
   "execution_count": 16,
   "metadata": {},
   "outputs": [],
   "source": [
    "sparkDF = spark.createDataFrame(dataframe)"
   ]
  },
  {
   "cell_type": "code",
   "execution_count": 17,
   "metadata": {},
   "outputs": [
    {
     "name": "stdout",
     "output_type": "stream",
     "text": [
      "+--------------------+\n",
      "|               tweet|\n",
      "+--------------------+\n",
      "|lmfao hot damn@Qu...|\n",
      "|I wonder if hRT @...|\n",
      "|The pRT @pilitoba...|\n",
      "|Tu NO has fet res...|\n",
      "|Its Joe Biden, an...|\n",
      "|Kamala Har@DennyM...|\n",
      "|Washington https:...|\n",
      "|1. Not becoming p...|\n",
      "|Els que hem plant...|\n",
      "|No. No. No. No. N...|\n",
      "|#AnditoTayoParaSa...|\n",
      "|Really shows you ...|\n",
      "|The speaker,  nor...|\n",
      "|Kamala Harris Aid...|\n",
      "|Harris aide Symon...|\n",
      "|Go Fuck Yourself!...|\n",
      "|Raise your hand i...|\n",
      "|#ABSCBNChristmasS...|\n",
      "|Had no opinion on...|\n",
      "|President Donald ...|\n",
      "+--------------------+\n",
      "only showing top 20 rows\n",
      "\n"
     ]
    }
   ],
   "source": [
    "sparkDF.show()"
   ]
  },
  {
   "cell_type": "code",
   "execution_count": 18,
   "metadata": {},
   "outputs": [],
   "source": [
    "import nltk"
   ]
  },
  {
   "cell_type": "code",
   "execution_count": 19,
   "metadata": {},
   "outputs": [
    {
     "name": "stdout",
     "output_type": "stream",
     "text": [
      "showing info https://raw.githubusercontent.com/nltk/nltk_data/gh-pages/index.xml\n"
     ]
    },
    {
     "data": {
      "text/plain": [
       "True"
      ]
     },
     "execution_count": 19,
     "metadata": {},
     "output_type": "execute_result"
    }
   ],
   "source": [
    "nltk.download()"
   ]
  },
  {
   "cell_type": "code",
   "execution_count": 20,
   "metadata": {},
   "outputs": [],
   "source": [
    "from nltk.corpus.reader.wordnet import *\n",
    "from pyspark.sql.functions import udf\n",
    "from sklearn.feature_extraction.text import TfidfTransformer\n",
    "from nltk.tokenize import word_tokenize\n",
    "from pyspark.sql.types import StringType,DoubleType,IntegerType\n",
    "import pyspark.sql.functions as F\n",
    "wn = nltk.WordNetLemmatizer()\n",
    "worddict = set(nltk.corpus.words.words())\n",
    "\n",
    "\n",
    "\n",
    "def preprocessing(text):\n",
    "    wordset_n = set(wn.lemmatize(w, NOUN) for w in word_tokenize(text.lower().strip()))\n",
    "    wordset_v = set(wn.lemmatize(w, VERB) for w in wordset_n)\n",
    "    wordset = set(wn.lemmatize(w, ADJ) for w in wordset_v)\n",
    "    wordset = wordset & worddict\n",
    "    return ' '.join(list(wordset))\n",
    "\n",
    "\n",
    "brand_udf=udf(preprocessing,StringType())\n",
    "sparkDF=sparkDF.withColumn('text',brand_udf(sparkDF['tweet']))\n",
    "sparkDF=sparkDF.withColumn('clean_len',F.length('text'))"
   ]
  },
  {
   "cell_type": "code",
   "execution_count": 21,
   "metadata": {},
   "outputs": [],
   "source": [
    "from pyspark.ml.feature import  Tokenizer"
   ]
  },
  {
   "cell_type": "code",
   "execution_count": 22,
   "metadata": {},
   "outputs": [],
   "source": [
    "tokenizer = Tokenizer(inputCol=\"text\", outputCol=\"words\")"
   ]
  },
  {
   "cell_type": "code",
   "execution_count": 23,
   "metadata": {},
   "outputs": [],
   "source": [
    "sparkDF=tokenizer.transform(sparkDF)"
   ]
  },
  {
   "cell_type": "code",
   "execution_count": 24,
   "metadata": {},
   "outputs": [],
   "source": [
    "from pyspark.ml.feature import CountVectorizer\n",
    "count = CountVectorizer (inputCol=\"words\", outputCol=\"rawFeatures\")"
   ]
  },
  {
   "cell_type": "code",
   "execution_count": 25,
   "metadata": {},
   "outputs": [],
   "source": [
    "model1=count.fit(sparkDF)"
   ]
  },
  {
   "cell_type": "code",
   "execution_count": 26,
   "metadata": {},
   "outputs": [],
   "source": [
    "sparkDF=model1.transform(sparkDF)"
   ]
  },
  {
   "cell_type": "code",
   "execution_count": 27,
   "metadata": {},
   "outputs": [],
   "source": [
    "from pyspark.ml.feature import  IDF\n",
    "idf = IDF(inputCol=\"rawFeatures\", outputCol=\"features\")"
   ]
  },
  {
   "cell_type": "code",
   "execution_count": 28,
   "metadata": {},
   "outputs": [],
   "source": [
    "idfModel = idf.fit(sparkDF)\n",
    "sparkDF = idfModel.transform(sparkDF)"
   ]
  },
  {
   "cell_type": "code",
   "execution_count": 33,
   "metadata": {},
   "outputs": [],
   "source": [
    "from pyspark.ml.classification import RandomForestClassifier\n",
    "rf_classifier=RandomForestClassifier(labelCol='polarity', featuresCol=\"features\")"
   ]
  },
  {
   "cell_type": "code",
   "execution_count": 34,
   "metadata": {},
   "outputs": [
    {
     "name": "stdout",
     "output_type": "stream",
     "text": [
      "+--------------------+--------------------+---------+--------------------+--------------------+--------------------+\n",
      "|               tweet|                text|clean_len|               words|         rawFeatures|            features|\n",
      "+--------------------+--------------------+---------+--------------------+--------------------+--------------------+\n",
      "|lmfao hot damn@Qu...|that for but damn...|      171|[that, for, but, ...|(331,[0,1,2,3,4,6...|(331,[0,1,2,3,4,6...|\n",
      "|I wonder if hRT @...|pandemic new i to...|      158|[pandemic, new, i...|(331,[0,1,2,3,4,5...|(331,[0,1,2,3,4,5...|\n",
      "|The pRT @pilitoba...|skit school only ...|       91|[skit, school, on...|(331,[0,1,2,3,4,8...|(331,[0,1,2,3,4,8...|\n",
      "|Tu NO has fet res...|we he to consiste...|      238|[we, he, to, cons...|(331,[0,1,2,3,4,5...|(331,[0,1,2,3,4,5...|\n",
      "|Its Joe Biden, an...|name kamala i my ...|       45|[name, kamala, i,...|(331,[0,3,4,8,9,1...|(331,[0,3,4,8,9,1...|\n",
      "|Kamala Har@DennyM...|matter fact yes k...|       22|[matter, fact, ye...|(331,[48,204,230,...|(331,[48,204,230,...|\n",
      "|Washington https:...|out we face your ...|      326|[out, we, face, y...|(331,[0,1,2,3,4,5...|(331,[0,1,2,3,4,5...|\n",
      "|1. Not becoming p...|not become president|       20|[not, become, pre...|(331,[0,59,163],[...|(331,[0,59,163],[...|\n",
      "|Els que hem plant...|              el hem|        6|           [el, hem]|(331,[180,212],[1...|(331,[180,212],[2...|\n",
      "|No. No. No. No. N...|                  no|        2|                [no]|    (331,[23],[1.0])|(331,[23],[1.3437...|\n",
      "|#AnditoTayoParaSa...|we he that black ...|      364|[we, he, that, bl...|(331,[0,1,2,3,4,5...|(331,[0,1,2,3,4,5...|\n",
      "|Really shows you ...|respect what to w...|      126|[respect, what, t...|(331,[0,1,2,3,5,7...|(331,[0,1,2,3,5,7...|\n",
      "|The speaker,  nor...|that hate leader ...|      123|[that, hate, lead...|(331,[0,2,6,10,14...|(331,[0,2,6,10,14...|\n",
      "|Kamala Harris Aid...|twice i for to th...|      182|[twice, i, for, t...|(331,[0,1,2,3,4,5...|(331,[0,1,2,3,4,5...|\n",
      "|Harris aide Symon...|regime i that cut...|      198|[regime, i, that,...|(331,[0,1,2,3,4,5...|(331,[0,1,2,3,4,5...|\n",
      "|Go Fuck Yourself!...|your place i eat ...|      282|[your, place, i, ...|(331,[0,1,2,3,4,5...|(331,[0,1,2,3,4,5...|\n",
      "|Raise your hand i...|while your new i ...|      346|[while, your, new...|(331,[0,1,2,3,4,5...|(331,[0,1,2,3,4,5...|\n",
      "|#ABSCBNChristmasS...|                    |        0|                  []|   (331,[184],[1.0])|(331,[184],[2.442...|\n",
      "|Had no opinion on...|by so no would wh...|       72|[by, so, no, woul...|(331,[0,1,12,23,2...|(331,[0,1,12,23,2...|\n",
      "|President Donald ...|     trump president|       15|  [trump, president]|(331,[0,10],[1.0,...|(331,[0,10],[0.19...|\n",
      "+--------------------+--------------------+---------+--------------------+--------------------+--------------------+\n",
      "only showing top 20 rows\n",
      "\n"
     ]
    }
   ],
   "source": [
    "sparkDF.show()"
   ]
  },
  {
   "cell_type": "code",
   "execution_count": null,
   "metadata": {},
   "outputs": [],
   "source": []
  },
  {
   "cell_type": "code",
   "execution_count": null,
   "metadata": {},
   "outputs": [],
   "source": []
  },
  {
   "cell_type": "code",
   "execution_count": null,
   "metadata": {},
   "outputs": [],
   "source": [
    "# Can only run this once. restart your kernel for any errors.\n",
    "sc = SparkContext()"
   ]
  },
  {
   "cell_type": "code",
   "execution_count": null,
   "metadata": {},
   "outputs": [],
   "source": [
    "ssc = StreamingContext(sc, 10 )\n",
    "sqlContext = SQLContext(sc)"
   ]
  },
  {
   "cell_type": "code",
   "execution_count": null,
   "metadata": {},
   "outputs": [],
   "source": [
    "socket_stream = ssc.socketTextStream(\"127.0.0.1\", 5556)"
   ]
  },
  {
   "cell_type": "code",
   "execution_count": null,
   "metadata": {},
   "outputs": [],
   "source": [
    "lines = socket_stream.window( 20 )"
   ]
  },
  {
   "cell_type": "code",
   "execution_count": null,
   "metadata": {},
   "outputs": [],
   "source": [
    "def process(rdd):\n",
    "    #print(\"========= %s =========\" % str(time))\n",
    "    try:\n",
    "        # Get the singleton instance of SparkSession\n",
    "        spark = getSparkSessionInstance(rdd.context.getConf())\n",
    "\n",
    "        # Convert RDD[String] to RDD[Row] to DataFrame\n",
    "        rowRdd = rdd.map(lambda w: Row(word=w))\n",
    "        wordsDataFrame = spark.createDataFrame(rowRdd)\n",
    "\n",
    "        # Creates a temporary view using the DataFrame\n",
    "        wordsDataFrame.createOrReplaceTempView(\"words\")\n",
    "\n",
    "        # Do word count on table using SQL and print it\n",
    "        wordCountsDataFrame = spark.sql(\"select word, count(*) as total from words group by word\")\n",
    "        return wordCountsDataFrame\n",
    "       # wordCountsDataFrame.show()\n",
    "    except:\n",
    "        pass\n",
    "\n",
    "lines.foreachRDD(process)"
   ]
  },
  {
   "cell_type": "code",
   "execution_count": null,
   "metadata": {},
   "outputs": [],
   "source": [
    "def process(rdd):\n",
    "    rdd.toDF()\n",
    "    \n",
    "lines.foreachRDD(process)"
   ]
  },
  {
   "cell_type": "code",
   "execution_count": null,
   "metadata": {},
   "outputs": [],
   "source": [
    "print(lines)"
   ]
  },
  {
   "cell_type": "code",
   "execution_count": null,
   "metadata": {},
   "outputs": [],
   "source": [
    "from collections import namedtuple\n",
    "fields = [\"tweet\", \"count\"]\n",
    "Tweet = namedtuple( 'Tweet', fields )"
   ]
  },
  {
   "cell_type": "code",
   "execution_count": null,
   "metadata": {},
   "outputs": [],
   "source": [
    "# Use Parenthesis for multiple lines or use \\.\n",
    "( lines.flatMap( lambda text: text.split( \" \" ) ) #Splits to a list\n",
    "     .filter( lambda word: word.lower().startswith(\"#\") ) # Checks for hashtag calls\n",
    "     .map( lambda word: ( word.lower(), 1 ) ) # Lower cases the word\n",
    "     .reduceByKey( lambda a, b: a + b ) # Reduces\n",
    "     .map( lambda rec: Tweet( rec[0], rec[1] ) ) # Stores in a Tweet Object\n",
    "     .foreachRDD( lambda rdd: rdd.toDF().sort( desc(\"count\") ) # Sorts Them in a DF\n",
    "     .limit(10).registerTempTable(\"tweets\") ) ) # Registers to a table. "
   ]
  },
  {
   "cell_type": "code",
   "execution_count": null,
   "metadata": {},
   "outputs": [],
   "source": []
  },
  {
   "cell_type": "markdown",
   "metadata": {},
   "source": [
    "__________\n",
    "### Run the TweetRead.py file at this point\n",
    "__________"
   ]
  },
  {
   "cell_type": "code",
   "execution_count": null,
   "metadata": {},
   "outputs": [],
   "source": [
    "import time\n",
    "from IPython import display\n",
    "import matplotlib.pyplot as plt\n",
    "import seaborn as sns\n",
    "import pandas\n",
    "# Only works for Jupyter Notebooks!\n",
    "%matplotlib inline "
   ]
  },
  {
   "cell_type": "code",
   "execution_count": null,
   "metadata": {},
   "outputs": [],
   "source": [
    "ssc.start()"
   ]
  },
  {
   "cell_type": "code",
   "execution_count": null,
   "metadata": {},
   "outputs": [],
   "source": []
  },
  {
   "cell_type": "code",
   "execution_count": null,
   "metadata": {},
   "outputs": [],
   "source": [
    "print(lines)"
   ]
  },
  {
   "cell_type": "code",
   "execution_count": null,
   "metadata": {},
   "outputs": [],
   "source": [
    "count = 0\n",
    "while count < 10:\n",
    "    \n",
    "    time.sleep( 3 )\n",
    "    top_10_tweets = sqlContext.sql( 'Select tag, count from tweets' )\n",
    "    top_10_df = top_10_tweets.toPandas()\n",
    "    display.clear_output(wait=True)\n",
    "    plt.figure( figsize = ( 10, 8 ) )\n",
    "    sns.barplot( x=\"count\", y=\"tag\", data=top_10_df)\n",
    "    plt.show()\n",
    "    count = count + 1"
   ]
  },
  {
   "cell_type": "code",
   "execution_count": null,
   "metadata": {},
   "outputs": [],
   "source": [
    "ssc.stop()"
   ]
  },
  {
   "cell_type": "code",
   "execution_count": null,
   "metadata": {},
   "outputs": [],
   "source": [
    "wordCountsDataFrame"
   ]
  },
  {
   "cell_type": "code",
   "execution_count": null,
   "metadata": {},
   "outputs": [],
   "source": []
  },
  {
   "cell_type": "code",
   "execution_count": null,
   "metadata": {},
   "outputs": [],
   "source": []
  },
  {
   "cell_type": "code",
   "execution_count": null,
   "metadata": {},
   "outputs": [],
   "source": []
  }
 ],
 "metadata": {
  "anaconda-cloud": {},
  "kernelspec": {
   "display_name": "Python 3",
   "language": "python",
   "name": "python3"
  },
  "language_info": {
   "codemirror_mode": {
    "name": "ipython",
    "version": 3
   },
   "file_extension": ".py",
   "mimetype": "text/x-python",
   "name": "python",
   "nbconvert_exporter": "python",
   "pygments_lexer": "ipython3",
   "version": "3.8.8"
  }
 },
 "nbformat": 4,
 "nbformat_minor": 1
}
